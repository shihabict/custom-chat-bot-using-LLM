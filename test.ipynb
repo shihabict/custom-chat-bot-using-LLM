{
 "cells": [
  {
   "cell_type": "code",
   "execution_count": 1,
   "metadata": {},
   "outputs": [
    {
     "name": "stdout",
     "output_type": "stream",
     "text": [
      "Requirement already satisfied: numpy==1.24.2 in ./chatbotenv/lib/python3.10/site-packages (1.24.2)\n"
     ]
    }
   ],
   "source": [
    "!pip install numpy==1.24.2\n",
    "# !pip uninstall ipywidgets -y -q"
   ]
  },
  {
   "cell_type": "code",
   "execution_count": 2,
   "metadata": {},
   "outputs": [
    {
     "name": "stderr",
     "output_type": "stream",
     "text": [
      "/home/shihab/learning_projects/custom-chat-bot-using-LLM/chatbotenv/lib/python3.10/site-packages/tqdm/auto.py:21: TqdmWarning: IProgress not found. Please update jupyter and ipywidgets. See https://ipywidgets.readthedocs.io/en/stable/user_install.html\n",
      "  from .autonotebook import tqdm as notebook_tqdm\n"
     ]
    }
   ],
   "source": [
    "from langchain.document_loaders import UnstructuredURLLoader\n",
    "from langchain.text_splitter import CharacterTextSplitter\n",
    "from langchain.vectorstores import Pinecone\n",
    "from langchain.embeddings import HuggingFaceEmbeddings\n",
    "from transformers import AutoTokenizer,AutoModelForCausalLM\n",
    "import transformers\n",
    "from langchain import HuggingFacePipeline\n",
    "from huggingface_hub import interpreter_login\n",
    "import torch"
   ]
  },
  {
   "cell_type": "code",
   "execution_count": null,
   "metadata": {},
   "outputs": [],
   "source": []
  },
  {
   "cell_type": "code",
   "execution_count": 3,
   "metadata": {},
   "outputs": [],
   "source": [
    "URLs = ['https://ineuron.ai/']"
   ]
  },
  {
   "cell_type": "markdown",
   "metadata": {},
   "source": [
    "### Load data from the URLs"
   ]
  },
  {
   "cell_type": "code",
   "execution_count": 4,
   "metadata": {},
   "outputs": [],
   "source": [
    "loader = UnstructuredURLLoader(urls=URLs)\n",
    "data = loader.load()"
   ]
  },
  {
   "cell_type": "code",
   "execution_count": 5,
   "metadata": {},
   "outputs": [
    {
     "data": {
      "text/plain": [
       "[Document(page_content='Learning with iNeuron made \\xa0<>\\n\\nTake your career to the next level with industry ready programs,\\n\\nAn entire learning ecosystem at your fingertips to make learning fun.\\n\\nChoose from a range of tech programs and make your next big career switch.\\n\\nExplore Courses\\n\\n55%\\n\\nAverage Salary Hike\\n\\n400+\\n\\nDifferent Courses\\n\\n10000+\\n\\nCareer Transitions\\n\\n400+\\n\\nHiring Partners\\n\\nLIVE NOW\\n\\nSupport System\\n\\nOur support system is live again, this time it is bigger, better and faster.\\n\\nExperience a tech community like never seen before\\n\\nTake me there\\n\\nOur Courses\\n\\nView all\\n\\nView all\\n\\nSuccess Stories\\n\\nView all\\n\\nFresher\\n\\nAbhisekh Bhuyan\\n\\nMLOps engineer\\n\\nI got job as an MLOps engineer at synapsica at 13 LPA PPO because of \"End to End projects MLOps\" from iNeuron.\\n\\nFrom\\n\\nFresher\\n\\nTo\\n\\n79% Increment\\n\\nSubham Kanungo\\n\\nAssociate Data Scientist\\n\\nI just joined EY as data analyst. It would not be possible with the support of Krish sir and Sudhanshu sir.\\n\\nFrom\\n\\nTo\\n\\n100% Increment\\n\\nSayan Saha\\n\\nSoftware Engineer - Python\\n\\nI am very happy to share that I have joined an organization as a Software Engineer - Python (CTC 8LPA).\\n\\nFrom\\n\\nTo\\n\\nFresher\\n\\nSushant Sur\\n\\nSenior Analyst\\n\\nFinally after the continuous guidance and support from Sudhanshu and Krish Sir, I am able to start my career with Dell as Senior Analyst.\\n\\nFrom\\n\\nIntern\\n\\nTo\\n\\n55% Increment\\n\\nNeeraj Bafila\\n\\nData Scientist\\n\\nWith the help of Data Science course I am able to transition from Sys admin to Data Scientist and joining Infosys. Thanks for superb mentoring.\\n\\nFrom\\n\\nTo\\n\\nFresher\\n\\nVaibhav Joshi\\n\\nConsultant\\n\\nI want to thank you iNeuron, I got placed at KPMG Bangalore because of the FSDA course. Thanks once again.\\n\\nFrom\\n\\nIntern\\n\\nTo\\n\\nFresher\\n\\nAdityaraj Chaudhari\\n\\nML Engineer\\n\\nI am delighted to inform you that I have successfully joined Zycus Infotech as trainee ML Engineer.\\n\\nFrom\\n\\nFresher\\n\\nTo\\n\\n300% Increment\\n\\nDisha Balpande\\n\\nML Engineer\\n\\nThank You so much for wonerful course and videos, I got a job at Adidas with 300% Hike.\\n\\nFrom\\n\\nTo\\n\\n150% Increment\\n\\nShubham Bharadwaj\\n\\nFinance Analyst\\n\\nI am beyond elated to announce that I have joined Deloitte USI as Analyst- Finance. Excited to move ahead in my carrer with biggest of the Big 4.\\n\\nFrom\\n\\nTo\\n\\n60% Increment\\n\\nPraveen Iyer\\n\\nSenior Software Engineer\\n\\nI have got an opportunity for a semiconductor chip manufacturing company in Bengaluru as Senior Software Engineer.\\n\\nFrom\\n\\nTo\\n\\nView all\\n\\nExplore Our Ecosystem\\n\\nA one-stop destination for all your learning to placement needs\\n\\nNeuro Lab\\n\\nGet premium access to a state-of-the-art virtual lab with infinite computing so you won\\'t need additional investments in high-end PCs\\n\\nJob Portal\\n\\nNew-age jobs need new-age technology, Build resumes in minutes, Apply for exclusive jobs or hire fresh talent we have you covered.\\n\\nOne Neuron\\n\\nSpecialized bundled programs tailored to cater to your specific requirements. 500+ Tech courses bundled to make learning easy and affordable\\n\\nSupport System\\n\\nComplex doubt or joining a like minded community at your fingertips\\n\\nInternship Portal\\n\\nChoose from over 500+ live projects across various domains Build, collaborate and grow with peers.\\n\\nTODO\\n\\nCompleted\\n\\nIn Progress\\n\\nBacklog\\n\\nBecome an affiliate\\n\\nEarn while you learn\\n\\nHall of fame\\n\\nLearn from alumnus who cracked the code\\n\\nI want to express my gratitude to Krish Naik, Sudhanshu Kumar and Sunny Savita for their instrumental role in my data science journey.\\n\\nAbhinav Dwivedi\\n\\nData Scientist, Softsensor.ai\\n\\nThanks to the iNeuron team for teaching me the skillsets to get this fantastic job. it was an amazing journey of 8-9 months. Special thanks to Sudhanshu sir\\n\\nSaransh Sehrawat\\n\\nAssociate Consultant, EY\\n\\nA big thanks to the iNeuron team for helping us to enhance our technical knowledge to achieve everyone\\'s dream. My gratitude to all instructors for all you have.\\n\\nPayel Tarafder\\n\\nSystem Engineer, TCS\\n\\nIt was through Krish\\'s videos that I first learned about INEURON, and without hesitation, I joined the inaugural FULL STACK DATA ANALYTICS Course in June 2022.\\n\\nRupam Gupta\\n\\nBusiness Analyst, Keseya\\n\\nHackathon\\n\\nEmbark on an adventure of creativity, teamwork, and coding brilliance using our advanced Hackathon Portal!\\n\\nOur Alumni\\'s Are Placed At\\n\\n500+ Hiring Partners\\n\\nFooter\\n\\ncontact@ineuron.ai\\n\\n+91 8071176111\\n\\nFacebook\\n\\nInstagram\\n\\nYoutube\\n\\nTwitter\\n\\nLinkedin\\n\\nDiscord\\n\\nCompany\\n\\nAbout us\\n\\nContact us\\n\\nFAQs\\n\\nCertificate verification\\n\\nPrivacy policy\\n\\nTerms and conditions\\n\\nProducts\\n\\nOne Neuron\\n\\nSupport System\\n\\nNeuro Lab\\n\\nJob Portal\\n\\nInternship Portal\\n\\nBecome an affiliate\\n\\nHall of fame\\n\\nHackathon', metadata={'source': 'https://ineuron.ai/'})]"
      ]
     },
     "execution_count": 5,
     "metadata": {},
     "output_type": "execute_result"
    }
   ],
   "source": [
    "data"
   ]
  },
  {
   "cell_type": "code",
   "execution_count": 6,
   "metadata": {},
   "outputs": [
    {
     "name": "stdout",
     "output_type": "stream",
     "text": [
      "page_content='Learning with iNeuron made \\xa0<>\\n\\nTake your career to the next level with industry ready programs,\\n\\nAn entire learning ecosystem at your fingertips to make learning fun.\\n\\nChoose from a range of tech programs and make your next big career switch.\\n\\nExplore Courses\\n\\n55%\\n\\nAverage Salary Hike\\n\\n400+\\n\\nDifferent Courses\\n\\n10000+\\n\\nCareer Transitions\\n\\n400+\\n\\nHiring Partners\\n\\nLIVE NOW\\n\\nSupport System\\n\\nOur support system is live again, this time it is bigger, better and faster.\\n\\nExperience a tech community like never seen before\\n\\nTake me there\\n\\nOur Courses\\n\\nView all\\n\\nView all\\n\\nSuccess Stories\\n\\nView all\\n\\nFresher\\n\\nAbhisekh Bhuyan\\n\\nMLOps engineer\\n\\nI got job as an MLOps engineer at synapsica at 13 LPA PPO because of \"End to End projects MLOps\" from iNeuron.\\n\\nFrom\\n\\nFresher\\n\\nTo\\n\\n79% Increment\\n\\nSubham Kanungo\\n\\nAssociate Data Scientist\\n\\nI just joined EY as data analyst. It would not be possible with the support of Krish sir and Sudhanshu sir.\\n\\nFrom\\n\\nTo\\n\\n100% Increment\\n\\nSayan Saha\\n\\nSoftware Engineer - Python\\n\\nI am very happy to share that I have joined an organization as a Software Engineer - Python (CTC 8LPA).\\n\\nFrom\\n\\nTo\\n\\nFresher\\n\\nSushant Sur\\n\\nSenior Analyst\\n\\nFinally after the continuous guidance and support from Sudhanshu and Krish Sir, I am able to start my career with Dell as Senior Analyst.\\n\\nFrom\\n\\nIntern\\n\\nTo\\n\\n55% Increment\\n\\nNeeraj Bafila\\n\\nData Scientist\\n\\nWith the help of Data Science course I am able to transition from Sys admin to Data Scientist and joining Infosys. Thanks for superb mentoring.\\n\\nFrom\\n\\nTo\\n\\nFresher\\n\\nVaibhav Joshi\\n\\nConsultant\\n\\nI want to thank you iNeuron, I got placed at KPMG Bangalore because of the FSDA course. Thanks once again.\\n\\nFrom\\n\\nIntern\\n\\nTo\\n\\nFresher\\n\\nAdityaraj Chaudhari\\n\\nML Engineer\\n\\nI am delighted to inform you that I have successfully joined Zycus Infotech as trainee ML Engineer.\\n\\nFrom\\n\\nFresher\\n\\nTo\\n\\n300% Increment\\n\\nDisha Balpande\\n\\nML Engineer\\n\\nThank You so much for wonerful course and videos, I got a job at Adidas with 300% Hike.\\n\\nFrom\\n\\nTo\\n\\n150% Increment\\n\\nShubham Bharadwaj\\n\\nFinance Analyst\\n\\nI am beyond elated to announce that I have joined Deloitte USI as Analyst- Finance. Excited to move ahead in my carrer with biggest of the Big 4.\\n\\nFrom\\n\\nTo\\n\\n60% Increment\\n\\nPraveen Iyer\\n\\nSenior Software Engineer\\n\\nI have got an opportunity for a semiconductor chip manufacturing company in Bengaluru as Senior Software Engineer.\\n\\nFrom\\n\\nTo\\n\\nView all\\n\\nExplore Our Ecosystem\\n\\nA one-stop destination for all your learning to placement needs\\n\\nNeuro Lab\\n\\nGet premium access to a state-of-the-art virtual lab with infinite computing so you won\\'t need additional investments in high-end PCs\\n\\nJob Portal\\n\\nNew-age jobs need new-age technology, Build resumes in minutes, Apply for exclusive jobs or hire fresh talent we have you covered.\\n\\nOne Neuron\\n\\nSpecialized bundled programs tailored to cater to your specific requirements. 500+ Tech courses bundled to make learning easy and affordable\\n\\nSupport System\\n\\nComplex doubt or joining a like minded community at your fingertips\\n\\nInternship Portal\\n\\nChoose from over 500+ live projects across various domains Build, collaborate and grow with peers.\\n\\nTODO\\n\\nCompleted\\n\\nIn Progress\\n\\nBacklog\\n\\nBecome an affiliate\\n\\nEarn while you learn\\n\\nHall of fame\\n\\nLearn from alumnus who cracked the code\\n\\nI want to express my gratitude to Krish Naik, Sudhanshu Kumar and Sunny Savita for their instrumental role in my data science journey.\\n\\nAbhinav Dwivedi\\n\\nData Scientist, Softsensor.ai\\n\\nThanks to the iNeuron team for teaching me the skillsets to get this fantastic job. it was an amazing journey of 8-9 months. Special thanks to Sudhanshu sir\\n\\nSaransh Sehrawat\\n\\nAssociate Consultant, EY\\n\\nA big thanks to the iNeuron team for helping us to enhance our technical knowledge to achieve everyone\\'s dream. My gratitude to all instructors for all you have.\\n\\nPayel Tarafder\\n\\nSystem Engineer, TCS\\n\\nIt was through Krish\\'s videos that I first learned about INEURON, and without hesitation, I joined the inaugural FULL STACK DATA ANALYTICS Course in June 2022.\\n\\nRupam Gupta\\n\\nBusiness Analyst, Keseya\\n\\nHackathon\\n\\nEmbark on an adventure of creativity, teamwork, and coding brilliance using our advanced Hackathon Portal!\\n\\nOur Alumni\\'s Are Placed At\\n\\n500+ Hiring Partners\\n\\nFooter\\n\\ncontact@ineuron.ai\\n\\n+91 8071176111\\n\\nFacebook\\n\\nInstagram\\n\\nYoutube\\n\\nTwitter\\n\\nLinkedin\\n\\nDiscord\\n\\nCompany\\n\\nAbout us\\n\\nContact us\\n\\nFAQs\\n\\nCertificate verification\\n\\nPrivacy policy\\n\\nTerms and conditions\\n\\nProducts\\n\\nOne Neuron\\n\\nSupport System\\n\\nNeuro Lab\\n\\nJob Portal\\n\\nInternship Portal\\n\\nBecome an affiliate\\n\\nHall of fame\\n\\nHackathon' metadata={'source': 'https://ineuron.ai/'}\n"
     ]
    }
   ],
   "source": [
    "for i in data:\n",
    "    print(i)"
   ]
  },
  {
   "cell_type": "markdown",
   "metadata": {},
   "source": [
    "### Chunks the data"
   ]
  },
  {
   "cell_type": "code",
   "execution_count": 7,
   "metadata": {},
   "outputs": [],
   "source": [
    "text_splitter = CharacterTextSplitter(separator='\\n',chunk_size=1000,chunk_overlap=200)"
   ]
  },
  {
   "cell_type": "code",
   "execution_count": 8,
   "metadata": {},
   "outputs": [],
   "source": [
    "text_chunks = text_splitter.split_documents(data)"
   ]
  },
  {
   "cell_type": "code",
   "execution_count": 9,
   "metadata": {},
   "outputs": [
    {
     "name": "stdout",
     "output_type": "stream",
     "text": [
      "page_content='Learning with iNeuron made \\xa0<>\\nTake your career to the next level with industry ready programs,\\nAn entire learning ecosystem at your fingertips to make learning fun.\\nChoose from a range of tech programs and make your next big career switch.\\nExplore Courses\\n55%\\nAverage Salary Hike\\n400+\\nDifferent Courses\\n10000+\\nCareer Transitions\\n400+\\nHiring Partners\\nLIVE NOW\\nSupport System\\nOur support system is live again, this time it is bigger, better and faster.\\nExperience a tech community like never seen before\\nTake me there\\nOur Courses\\nView all\\nView all\\nSuccess Stories\\nView all\\nFresher\\nAbhisekh Bhuyan\\nMLOps engineer\\nI got job as an MLOps engineer at synapsica at 13 LPA PPO because of \"End to End projects MLOps\" from iNeuron.\\nFrom\\nFresher\\nTo\\n79% Increment\\nSubham Kanungo\\nAssociate Data Scientist\\nI just joined EY as data analyst. It would not be possible with the support of Krish sir and Sudhanshu sir.\\nFrom\\nTo\\n100% Increment\\nSayan Saha\\nSoftware Engineer - Python' metadata={'source': 'https://ineuron.ai/'}\n",
      "page_content='Associate Data Scientist\\nI just joined EY as data analyst. It would not be possible with the support of Krish sir and Sudhanshu sir.\\nFrom\\nTo\\n100% Increment\\nSayan Saha\\nSoftware Engineer - Python\\nI am very happy to share that I have joined an organization as a Software Engineer - Python (CTC 8LPA).\\nFrom\\nTo\\nFresher\\nSushant Sur\\nSenior Analyst\\nFinally after the continuous guidance and support from Sudhanshu and Krish Sir, I am able to start my career with Dell as Senior Analyst.\\nFrom\\nIntern\\nTo\\n55% Increment\\nNeeraj Bafila\\nData Scientist\\nWith the help of Data Science course I am able to transition from Sys admin to Data Scientist and joining Infosys. Thanks for superb mentoring.\\nFrom\\nTo\\nFresher\\nVaibhav Joshi\\nConsultant\\nI want to thank you iNeuron, I got placed at KPMG Bangalore because of the FSDA course. Thanks once again.\\nFrom\\nIntern\\nTo\\nFresher\\nAdityaraj Chaudhari\\nML Engineer\\nI am delighted to inform you that I have successfully joined Zycus Infotech as trainee ML Engineer.\\nFrom\\nFresher\\nTo' metadata={'source': 'https://ineuron.ai/'}\n",
      "page_content=\"From\\nIntern\\nTo\\nFresher\\nAdityaraj Chaudhari\\nML Engineer\\nI am delighted to inform you that I have successfully joined Zycus Infotech as trainee ML Engineer.\\nFrom\\nFresher\\nTo\\n300% Increment\\nDisha Balpande\\nML Engineer\\nThank You so much for wonerful course and videos, I got a job at Adidas with 300% Hike.\\nFrom\\nTo\\n150% Increment\\nShubham Bharadwaj\\nFinance Analyst\\nI am beyond elated to announce that I have joined Deloitte USI as Analyst- Finance. Excited to move ahead in my carrer with biggest of the Big 4.\\nFrom\\nTo\\n60% Increment\\nPraveen Iyer\\nSenior Software Engineer\\nI have got an opportunity for a semiconductor chip manufacturing company in Bengaluru as Senior Software Engineer.\\nFrom\\nTo\\nView all\\nExplore Our Ecosystem\\nA one-stop destination for all your learning to placement needs\\nNeuro Lab\\nGet premium access to a state-of-the-art virtual lab with infinite computing so you won't need additional investments in high-end PCs\\nJob Portal\" metadata={'source': 'https://ineuron.ai/'}\n",
      "page_content=\"Neuro Lab\\nGet premium access to a state-of-the-art virtual lab with infinite computing so you won't need additional investments in high-end PCs\\nJob Portal\\nNew-age jobs need new-age technology, Build resumes in minutes, Apply for exclusive jobs or hire fresh talent we have you covered.\\nOne Neuron\\nSpecialized bundled programs tailored to cater to your specific requirements. 500+ Tech courses bundled to make learning easy and affordable\\nSupport System\\nComplex doubt or joining a like minded community at your fingertips\\nInternship Portal\\nChoose from over 500+ live projects across various domains Build, collaborate and grow with peers.\\nTODO\\nCompleted\\nIn Progress\\nBacklog\\nBecome an affiliate\\nEarn while you learn\\nHall of fame\\nLearn from alumnus who cracked the code\\nI want to express my gratitude to Krish Naik, Sudhanshu Kumar and Sunny Savita for their instrumental role in my data science journey.\\nAbhinav Dwivedi\\nData Scientist, Softsensor.ai\" metadata={'source': 'https://ineuron.ai/'}\n",
      "page_content=\"I want to express my gratitude to Krish Naik, Sudhanshu Kumar and Sunny Savita for their instrumental role in my data science journey.\\nAbhinav Dwivedi\\nData Scientist, Softsensor.ai\\nThanks to the iNeuron team for teaching me the skillsets to get this fantastic job. it was an amazing journey of 8-9 months. Special thanks to Sudhanshu sir\\nSaransh Sehrawat\\nAssociate Consultant, EY\\nA big thanks to the iNeuron team for helping us to enhance our technical knowledge to achieve everyone's dream. My gratitude to all instructors for all you have.\\nPayel Tarafder\\nSystem Engineer, TCS\\nIt was through Krish's videos that I first learned about INEURON, and without hesitation, I joined the inaugural FULL STACK DATA ANALYTICS Course in June 2022.\\nRupam Gupta\\nBusiness Analyst, Keseya\\nHackathon\\nEmbark on an adventure of creativity, teamwork, and coding brilliance using our advanced Hackathon Portal!\\nOur Alumni's Are Placed At\\n500+ Hiring Partners\\nFooter\\ncontact@ineuron.ai\\n+91 8071176111\\nFacebook\\nInstagram\" metadata={'source': 'https://ineuron.ai/'}\n",
      "page_content=\"Our Alumni's Are Placed At\\n500+ Hiring Partners\\nFooter\\ncontact@ineuron.ai\\n+91 8071176111\\nFacebook\\nInstagram\\nYoutube\\nTwitter\\nLinkedin\\nDiscord\\nCompany\\nAbout us\\nContact us\\nFAQs\\nCertificate verification\\nPrivacy policy\\nTerms and conditions\\nProducts\\nOne Neuron\\nSupport System\\nNeuro Lab\\nJob Portal\\nInternship Portal\\nBecome an affiliate\\nHall of fame\\nHackathon\" metadata={'source': 'https://ineuron.ai/'}\n"
     ]
    }
   ],
   "source": [
    "for text_chunk in text_chunks:\n",
    "    print(text_chunk)"
   ]
  },
  {
   "cell_type": "markdown",
   "metadata": {},
   "source": [
    "### Embeddings Model"
   ]
  },
  {
   "cell_type": "code",
   "execution_count": 10,
   "metadata": {},
   "outputs": [],
   "source": [
    "embeddings = HuggingFaceEmbeddings(model_name='sentence-transformers/all-MiniLM-L6-v2')"
   ]
  },
  {
   "cell_type": "markdown",
   "metadata": {},
   "source": [
    "### Test Embeddings"
   ]
  },
  {
   "cell_type": "code",
   "execution_count": 11,
   "metadata": {},
   "outputs": [
    {
     "data": {
      "text/plain": [
       "[-0.03136904910206795,\n",
       " 0.03783058002591133,\n",
       " 0.07630818337202072,\n",
       " 0.045699670910835266,\n",
       " -0.0012047188356518745,\n",
       " -0.0747690424323082,\n",
       " 0.08157843351364136,\n",
       " 0.01020936481654644,\n",
       " -0.11220557242631912,\n",
       " 0.040734339505434036,\n",
       " -0.04470576345920563,\n",
       " -0.009028704836964607,\n",
       " -0.02297619730234146,\n",
       " -0.009182506240904331,\n",
       " 0.007133569568395615,\n",
       " -0.035297244787216187,\n",
       " 0.07896503806114197,\n",
       " -0.09915591031312943,\n",
       " -0.1210382729768753,\n",
       " 0.032573699951171875,\n",
       " -0.0991877093911171,\n",
       " 0.03196950629353523,\n",
       " 0.0017395204631611705,\n",
       " 0.08815879374742508,\n",
       " -0.026670053601264954,\n",
       " 0.0170916598290205,\n",
       " -0.041350770741701126,\n",
       " -0.039181821048259735,\n",
       " 0.03500913828611374,\n",
       " -0.07608217000961304,\n",
       " -0.06472425162792206,\n",
       " 0.02267630398273468,\n",
       " -0.04956904798746109,\n",
       " -0.027594158425927162,\n",
       " -0.0572696328163147,\n",
       " -0.04053007811307907,\n",
       " 0.01654030568897724,\n",
       " -0.10059665143489838,\n",
       " -0.048732444643974304,\n",
       " -0.022784540429711342,\n",
       " 0.02085503190755844,\n",
       " -0.06302399188280106,\n",
       " -0.019444245845079422,\n",
       " -0.027309607714414597,\n",
       " 0.07852303236722946,\n",
       " -0.04114220663905144,\n",
       " 0.015361453406512737,\n",
       " 0.03348726034164429,\n",
       " 0.09579645842313766,\n",
       " 0.059216078370809555,\n",
       " -0.09707312285900116,\n",
       " -0.02339605614542961,\n",
       " -0.05955905839800835,\n",
       " 0.029372550547122955,\n",
       " 0.02143273502588272,\n",
       " 0.041653309017419815,\n",
       " -0.0333460196852684,\n",
       " 0.04255328327417374,\n",
       " 0.03954600542783737,\n",
       " -0.011558028869330883,\n",
       " 0.06694885343313217,\n",
       " 0.021575501188635826,\n",
       " -0.06559107452630997,\n",
       " 0.01254552323371172,\n",
       " 0.08388132601976395,\n",
       " -0.025172723457217216,\n",
       " -0.052937351167201996,\n",
       " -0.023182835429906845,\n",
       " -0.030786795541644096,\n",
       " -0.0357745923101902,\n",
       " -0.04332021251320839,\n",
       " -0.06390701979398727,\n",
       " 0.04137132316827774,\n",
       " 0.04953284189105034,\n",
       " 0.024591194465756416,\n",
       " -0.06853339076042175,\n",
       " 0.048457734286785126,\n",
       " -0.025627030059695244,\n",
       " 0.04934027045965195,\n",
       " 0.06604217737913132,\n",
       " 0.034328773617744446,\n",
       " -0.005704818293452263,\n",
       " -0.01792645826935768,\n",
       " 0.04836336150765419,\n",
       " -0.09252991527318954,\n",
       " -0.036391906440258026,\n",
       " 0.0741920992732048,\n",
       " 0.10382232815027237,\n",
       " 0.0016490704147145152,\n",
       " 0.025995537638664246,\n",
       " -0.00860306341201067,\n",
       " 0.06778328120708466,\n",
       " 0.05868242681026459,\n",
       " 0.026120897382497787,\n",
       " -0.002039393875747919,\n",
       " -0.020400503650307655,\n",
       " 0.11093255877494812,\n",
       " 0.016495918855071068,\n",
       " -0.09438548237085342,\n",
       " 0.20557959377765656,\n",
       " 6.356721132760867e-05,\n",
       " 0.06762679666280746,\n",
       " 0.02732026018202305,\n",
       " -0.01456356793642044,\n",
       " -0.0062337531708180904,\n",
       " 0.020939042791724205,\n",
       " -0.06264735013246536,\n",
       " 0.06220560893416405,\n",
       " 0.02478775940835476,\n",
       " -0.029718786478042603,\n",
       " 0.005068744067102671,\n",
       " 0.010318180546164513,\n",
       " 0.01490421500056982,\n",
       " 0.07361360639333725,\n",
       " 0.061144277453422546,\n",
       " -0.013829311355948448,\n",
       " 0.03032005950808525,\n",
       " 0.09739599376916885,\n",
       " 0.018529780209064484,\n",
       " -0.008559595793485641,\n",
       " 0.0013024198124185205,\n",
       " 0.031101686879992485,\n",
       " 0.02343733236193657,\n",
       " 0.020182941108942032,\n",
       " -0.03551377356052399,\n",
       " 0.03168635815382004,\n",
       " 0.0172608382999897,\n",
       " -3.058863501857087e-33,\n",
       " 0.09714354574680328,\n",
       " -0.06760358810424805,\n",
       " 0.05471539869904518,\n",
       " 0.09135314077138901,\n",
       " -0.062006548047065735,\n",
       " -0.006499435752630234,\n",
       " -0.010642767883837223,\n",
       " -0.038771141320466995,\n",
       " 0.024260584264993668,\n",
       " 0.06175179034471512,\n",
       " 0.033406857401132584,\n",
       " -0.007204086985439062,\n",
       " -0.05791318044066429,\n",
       " -0.001612488878890872,\n",
       " 0.039605818688869476,\n",
       " 0.0016240476397797465,\n",
       " -0.06437235325574875,\n",
       " 0.06395557522773743,\n",
       " -0.015219601802527905,\n",
       " 0.1134161502122879,\n",
       " -0.0030630154069513083,\n",
       " -0.08828455954790115,\n",
       " -0.04004181548953056,\n",
       " 0.05269758030772209,\n",
       " 0.032188717275857925,\n",
       " -0.019789980724453926,\n",
       " -0.043127644807100296,\n",
       " -0.09375288337469101,\n",
       " -0.051823556423187256,\n",
       " -0.002925554057583213,\n",
       " -0.04850192740559578,\n",
       " 0.06024016812443733,\n",
       " 0.07291194051504135,\n",
       " -0.05422224476933479,\n",
       " 0.03923439979553223,\n",
       " -0.022081689909100533,\n",
       " -0.002383170183748007,\n",
       " -0.014505726285278797,\n",
       " -0.012115834280848503,\n",
       " 0.02365165576338768,\n",
       " -0.006617294624447823,\n",
       " -0.04791847988963127,\n",
       " 0.04393262416124344,\n",
       " -0.06379479914903641,\n",
       " -0.010415159165859222,\n",
       " -0.05301574245095253,\n",
       " -0.02889888361096382,\n",
       " 0.02940172329545021,\n",
       " -0.05259528011083603,\n",
       " -0.05098629742860794,\n",
       " -0.028703590855002403,\n",
       " -0.014529881998896599,\n",
       " -0.08883082866668701,\n",
       " 0.037769615650177,\n",
       " -0.015111733227968216,\n",
       " -0.029321035370230675,\n",
       " 0.00759910186752677,\n",
       " 0.017518987879157066,\n",
       " -0.013392322696745396,\n",
       " 0.027016470208764076,\n",
       " 0.09855752438306808,\n",
       " 0.1283467561006546,\n",
       " -0.025648050010204315,\n",
       " -0.07193613797426224,\n",
       " -0.1368872970342636,\n",
       " -0.0407303087413311,\n",
       " -0.007471784483641386,\n",
       " -0.010811133310198784,\n",
       " 0.032522764056921005,\n",
       " -0.14001238346099854,\n",
       " -0.012286882847547531,\n",
       " -0.013678044080734253,\n",
       " 0.06219329684972763,\n",
       " 0.009006976149976254,\n",
       " 0.03650650009512901,\n",
       " 0.025295749306678772,\n",
       " -0.03125278279185295,\n",
       " -0.05197650194168091,\n",
       " -0.03930611163377762,\n",
       " -0.0503084659576416,\n",
       " 0.0033788669388741255,\n",
       " 0.06378468126058578,\n",
       " -0.04486451297998428,\n",
       " -0.016197439283132553,\n",
       " -0.008314626291394234,\n",
       " -0.012227989733219147,\n",
       " -0.012702664360404015,\n",
       " -0.05027318373322487,\n",
       " 0.021776529029011726,\n",
       " 0.03444907069206238,\n",
       " -0.028119022026658058,\n",
       " 0.030802467837929726,\n",
       " 0.04485628381371498,\n",
       " -0.03271912783384323,\n",
       " -0.06445911526679993,\n",
       " 1.3999270791209713e-33,\n",
       " 0.050691962242126465,\n",
       " 0.0060113039799034595,\n",
       " -0.03888990730047226,\n",
       " 0.04806933179497719,\n",
       " -0.10996045917272568,\n",
       " -0.02901354804635048,\n",
       " -0.02194688655436039,\n",
       " 0.06510306149721146,\n",
       " 0.025331545621156693,\n",
       " 0.05343761295080185,\n",
       " 0.0678887888789177,\n",
       " 0.006699282210320234,\n",
       " 0.03844352066516876,\n",
       " 0.003802482970058918,\n",
       " 0.01409018412232399,\n",
       " 0.0021515809930860996,\n",
       " 0.07592237740755081,\n",
       " 0.010406948626041412,\n",
       " -0.032762859016656876,\n",
       " 0.018313178792595863,\n",
       " -0.06824959069490433,\n",
       " 0.0726143941283226,\n",
       " -0.007787293288856745,\n",
       " 0.022177699953317642,\n",
       " -0.01746688038110733,\n",
       " 0.013135968707501888,\n",
       " -0.0008800708455964923,\n",
       " 0.011896706186234951,\n",
       " -0.021002594381570816,\n",
       " -0.030892329290509224,\n",
       " 0.06205055117607117,\n",
       " -0.04947248101234436,\n",
       " -0.07958328723907471,\n",
       " 0.09049651026725769,\n",
       " 0.08999092131853104,\n",
       " 0.05850697308778763,\n",
       " -0.026574887335300446,\n",
       " -0.027560168877243996,\n",
       " -0.07425224035978317,\n",
       " -0.05908852443099022,\n",
       " -0.05168537423014641,\n",
       " 0.06261248141527176,\n",
       " -0.0033335909247398376,\n",
       " 0.059321992099285126,\n",
       " 0.11807971447706223,\n",
       " -0.046415604650974274,\n",
       " 0.03330688923597336,\n",
       " -0.005427706521004438,\n",
       " 0.0009775016224011779,\n",
       " 0.034129999577999115,\n",
       " 0.005460269283503294,\n",
       " -0.025392327457666397,\n",
       " -0.02591443806886673,\n",
       " 0.01321644801646471,\n",
       " 0.025358252227306366,\n",
       " -0.011485259048640728,\n",
       " 0.005777928978204727,\n",
       " -0.017485015094280243,\n",
       " -0.0043245889246463776,\n",
       " 0.00707412650808692,\n",
       " 0.038664549589157104,\n",
       " 0.04003800079226494,\n",
       " -0.01988709345459938,\n",
       " 8.833622268866748e-05,\n",
       " 0.025714460760354996,\n",
       " 0.030556421726942062,\n",
       " -0.010256958194077015,\n",
       " -0.047175437211990356,\n",
       " -0.06016527861356735,\n",
       " -0.027515267953276634,\n",
       " -0.10169067233800888,\n",
       " 0.014528060331940651,\n",
       " -0.03164767473936081,\n",
       " -0.044296953827142715,\n",
       " 0.0015503133181482553,\n",
       " 0.0060374983586370945,\n",
       " 0.02054382488131523,\n",
       " 0.02357696183025837,\n",
       " -0.012701342813670635,\n",
       " -0.032529402524232864,\n",
       " -0.10090073943138123,\n",
       " 0.007635407615453005,\n",
       " 0.07103476673364639,\n",
       " -0.07256308943033218,\n",
       " -0.1273844838142395,\n",
       " -0.10806909948587418,\n",
       " 0.07306642085313797,\n",
       " 0.006823930889368057,\n",
       " 0.03949940949678421,\n",
       " 0.04036786034703255,\n",
       " -0.013481264002621174,\n",
       " 0.03828543424606323,\n",
       " 0.0334056131541729,\n",
       " 0.003595297457650304,\n",
       " 0.03097423166036606,\n",
       " -1.4916333057612974e-08,\n",
       " 0.051182009279727936,\n",
       " -0.019823865965008736,\n",
       " 0.02302778884768486,\n",
       " 0.0688517764210701,\n",
       " 0.013925042003393173,\n",
       " 0.11191119998693466,\n",
       " 0.0006432025111280382,\n",
       " -0.01985570415854454,\n",
       " 0.0007678666152060032,\n",
       " -0.05631173774600029,\n",
       " 0.07392707467079163,\n",
       " -0.020139271393418312,\n",
       " -0.04854598641395569,\n",
       " -0.05239630863070488,\n",
       " 0.039071112871170044,\n",
       " -0.06397895514965057,\n",
       " 0.06225258857011795,\n",
       " 0.12040317058563232,\n",
       " -0.05272167548537254,\n",
       " -0.05464842543005943,\n",
       " 0.07222046703100204,\n",
       " -0.02665843814611435,\n",
       " -0.027944263070821762,\n",
       " 0.06440473347902298,\n",
       " -0.031120697036385536,\n",
       " 0.09008673578500748,\n",
       " 0.03834472596645355,\n",
       " 0.08988916128873825,\n",
       " -0.0006595687009394169,\n",
       " 0.10638521611690521,\n",
       " 0.039586056023836136,\n",
       " 0.10484518855810165,\n",
       " 0.00927717424929142,\n",
       " 0.0031592079903930426,\n",
       " 0.0184079110622406,\n",
       " -0.049642305821180344,\n",
       " 0.0041544195264577866,\n",
       " -0.013140960596501827,\n",
       " 0.04732724651694298,\n",
       " 0.05764703452587128,\n",
       " -0.05649249255657196,\n",
       " 0.005742222536355257,\n",
       " -0.04280465841293335,\n",
       " -0.005208876915276051,\n",
       " -0.01500371191650629,\n",
       " -0.027277596294879913,\n",
       " 0.08134389668703079,\n",
       " -0.03984198719263077,\n",
       " -0.012123414315283298,\n",
       " 0.004334735218435526,\n",
       " -0.04557550325989723,\n",
       " 0.007778028957545757,\n",
       " 0.08313384652137756,\n",
       " 0.0588032491505146,\n",
       " 0.03067040629684925,\n",
       " 0.050807781517505646,\n",
       " -0.022173119708895683,\n",
       " 0.05907445028424263,\n",
       " -0.04439060762524605,\n",
       " 0.012003045529127121,\n",
       " 0.010381268337368965,\n",
       " -0.03194082900881767,\n",
       " -0.06313007324934006,\n",
       " -0.026678577065467834]"
      ]
     },
     "execution_count": 11,
     "metadata": {},
     "output_type": "execute_result"
    }
   ],
   "source": [
    "embeddings.embed_query('How are you')"
   ]
  },
  {
   "cell_type": "markdown",
   "metadata": {},
   "source": [
    "### Initiate Pinecone"
   ]
  },
  {
   "cell_type": "code",
   "execution_count": 12,
   "metadata": {},
   "outputs": [],
   "source": [
    "from dotenv import dotenv_values\n",
    "import os\n",
    "scrects = dotenv_values('.env')"
   ]
  },
  {
   "cell_type": "code",
   "execution_count": 13,
   "metadata": {},
   "outputs": [
    {
     "data": {
      "text/plain": [
       "'4adcbd2c-90a8-484f-b9a9-dee18a2e2056'"
      ]
     },
     "execution_count": 13,
     "metadata": {},
     "output_type": "execute_result"
    }
   ],
   "source": [
    "scrects['PINECONE_API_KEY']"
   ]
  },
  {
   "cell_type": "code",
   "execution_count": 14,
   "metadata": {},
   "outputs": [],
   "source": [
    "PINECONE_API_KEY = scrects['PINECONE_API_KEY']\n",
    "PINECONE_API_ENV = scrects['PINECONE_API_ENV']"
   ]
  },
  {
   "cell_type": "code",
   "execution_count": 15,
   "metadata": {},
   "outputs": [
    {
     "data": {
      "text/plain": [
       "('4adcbd2c-90a8-484f-b9a9-dee18a2e2056', 'gcp-starter')"
      ]
     },
     "execution_count": 15,
     "metadata": {},
     "output_type": "execute_result"
    }
   ],
   "source": [
    "PINECONE_API_KEY,PINECONE_API_ENV"
   ]
  },
  {
   "cell_type": "code",
   "execution_count": 16,
   "metadata": {},
   "outputs": [],
   "source": [
    "import pinecone\n",
    "\n",
    "pinecone.init(api_key=PINECONE_API_KEY, environment=PINECONE_API_ENV)\n",
    "index_name = 'custom-bot'"
   ]
  },
  {
   "cell_type": "markdown",
   "metadata": {},
   "source": [
    "### Convert Text into Vector"
   ]
  },
  {
   "cell_type": "code",
   "execution_count": 17,
   "metadata": {},
   "outputs": [],
   "source": [
    "docesearch = Pinecone.from_texts([doc.page_content for doc in text_chunks],embeddings,index_name=index_name)"
   ]
  },
  {
   "cell_type": "code",
   "execution_count": 18,
   "metadata": {},
   "outputs": [
    {
     "data": {
      "text/plain": [
       "<langchain_community.vectorstores.pinecone.Pinecone at 0x7992c9930fa0>"
      ]
     },
     "execution_count": 18,
     "metadata": {},
     "output_type": "execute_result"
    }
   ],
   "source": [
    "docesearch"
   ]
  },
  {
   "cell_type": "markdown",
   "metadata": {},
   "source": [
    "### Create LLM Wrapper"
   ]
  },
  {
   "cell_type": "code",
   "execution_count": 19,
   "metadata": {},
   "outputs": [
    {
     "name": "stdout",
     "output_type": "stream",
     "text": [
      "Token has not been saved to git credential helper. Pass `add_to_git_credential=True` if you want to set the git credential as well.\n",
      "Token is valid (permission: write).\n",
      "Your token has been saved to /home/shihab/.cache/huggingface/token\n",
      "Login successful\n"
     ]
    }
   ],
   "source": [
    "import os\n",
    "from huggingface_hub import login\n",
    "\n",
    "login(token=scrects['HUGGINGFACE_TOKEN'])"
   ]
  },
  {
   "cell_type": "code",
   "execution_count": 24,
   "metadata": {},
   "outputs": [
    {
     "name": "stderr",
     "output_type": "stream",
     "text": [
      "/home/shihab/learning_projects/custom-chat-bot-using-LLM/chatbotenv/lib/python3.10/site-packages/transformers/models/auto/tokenization_auto.py:732: FutureWarning: The `use_auth_token` argument is deprecated and will be removed in v5 of Transformers. Please use `token` instead.\n",
      "  warnings.warn(\n"
     ]
    }
   ],
   "source": [
    "tokenizer = AutoTokenizer.from_pretrained(\"meta-llama/Llama-2-7b-chat-hf\",use_auth_token=True)"
   ]
  },
  {
   "cell_type": "code",
   "execution_count": 28,
   "metadata": {},
   "outputs": [
    {
     "name": "stderr",
     "output_type": "stream",
     "text": [
      "Downloading shards:   0%|          | 0/2 [00:20<?, ?it/s]\n"
     ]
    },
    {
     "ename": "KeyboardInterrupt",
     "evalue": "",
     "output_type": "error",
     "traceback": [
      "\u001b[0;31m---------------------------------------------------------------------------\u001b[0m",
      "\u001b[0;31mKeyboardInterrupt\u001b[0m                         Traceback (most recent call last)",
      "Cell \u001b[0;32mIn[28], line 1\u001b[0m\n\u001b[0;32m----> 1\u001b[0m model \u001b[38;5;241m=\u001b[39m \u001b[43mAutoModelForCausalLM\u001b[49m\u001b[38;5;241;43m.\u001b[39;49m\u001b[43mfrom_pretrained\u001b[49m\u001b[43m(\u001b[49m\u001b[38;5;124;43m\"\u001b[39;49m\u001b[38;5;124;43mmeta-llama/Llama-2-7b-chat-hf\u001b[39;49m\u001b[38;5;124;43m\"\u001b[39;49m\u001b[43m,\u001b[49m\u001b[43muse_auth_token\u001b[49m\u001b[38;5;241;43m=\u001b[39;49m\u001b[38;5;28;43;01mTrue\u001b[39;49;00m\u001b[43m,\u001b[49m\u001b[43mdevice_map\u001b[49m\u001b[38;5;241;43m=\u001b[39;49m\u001b[38;5;124;43m'\u001b[39;49m\u001b[38;5;124;43mauto\u001b[39;49m\u001b[38;5;124;43m'\u001b[39;49m\u001b[43m,\u001b[49m\u001b[43mtorch_dtype\u001b[49m\u001b[38;5;241;43m=\u001b[39;49m\u001b[43mtorch\u001b[49m\u001b[38;5;241;43m.\u001b[39;49m\u001b[43mfloat16\u001b[49m\u001b[43m)\u001b[49m\n",
      "File \u001b[0;32m~/learning_projects/custom-chat-bot-using-LLM/chatbotenv/lib/python3.10/site-packages/transformers/models/auto/auto_factory.py:563\u001b[0m, in \u001b[0;36m_BaseAutoModelClass.from_pretrained\u001b[0;34m(cls, pretrained_model_name_or_path, *model_args, **kwargs)\u001b[0m\n\u001b[1;32m    561\u001b[0m \u001b[38;5;28;01melif\u001b[39;00m \u001b[38;5;28mtype\u001b[39m(config) \u001b[38;5;129;01min\u001b[39;00m \u001b[38;5;28mcls\u001b[39m\u001b[38;5;241m.\u001b[39m_model_mapping\u001b[38;5;241m.\u001b[39mkeys():\n\u001b[1;32m    562\u001b[0m     model_class \u001b[38;5;241m=\u001b[39m _get_model_class(config, \u001b[38;5;28mcls\u001b[39m\u001b[38;5;241m.\u001b[39m_model_mapping)\n\u001b[0;32m--> 563\u001b[0m     \u001b[38;5;28;01mreturn\u001b[39;00m \u001b[43mmodel_class\u001b[49m\u001b[38;5;241;43m.\u001b[39;49m\u001b[43mfrom_pretrained\u001b[49m\u001b[43m(\u001b[49m\n\u001b[1;32m    564\u001b[0m \u001b[43m        \u001b[49m\u001b[43mpretrained_model_name_or_path\u001b[49m\u001b[43m,\u001b[49m\u001b[43m \u001b[49m\u001b[38;5;241;43m*\u001b[39;49m\u001b[43mmodel_args\u001b[49m\u001b[43m,\u001b[49m\u001b[43m \u001b[49m\u001b[43mconfig\u001b[49m\u001b[38;5;241;43m=\u001b[39;49m\u001b[43mconfig\u001b[49m\u001b[43m,\u001b[49m\u001b[43m \u001b[49m\u001b[38;5;241;43m*\u001b[39;49m\u001b[38;5;241;43m*\u001b[39;49m\u001b[43mhub_kwargs\u001b[49m\u001b[43m,\u001b[49m\u001b[43m \u001b[49m\u001b[38;5;241;43m*\u001b[39;49m\u001b[38;5;241;43m*\u001b[39;49m\u001b[43mkwargs\u001b[49m\n\u001b[1;32m    565\u001b[0m \u001b[43m    \u001b[49m\u001b[43m)\u001b[49m\n\u001b[1;32m    566\u001b[0m \u001b[38;5;28;01mraise\u001b[39;00m \u001b[38;5;167;01mValueError\u001b[39;00m(\n\u001b[1;32m    567\u001b[0m     \u001b[38;5;124mf\u001b[39m\u001b[38;5;124m\"\u001b[39m\u001b[38;5;124mUnrecognized configuration class \u001b[39m\u001b[38;5;132;01m{\u001b[39;00mconfig\u001b[38;5;241m.\u001b[39m\u001b[38;5;18m__class__\u001b[39m\u001b[38;5;132;01m}\u001b[39;00m\u001b[38;5;124m for this kind of AutoModel: \u001b[39m\u001b[38;5;132;01m{\u001b[39;00m\u001b[38;5;28mcls\u001b[39m\u001b[38;5;241m.\u001b[39m\u001b[38;5;18m__name__\u001b[39m\u001b[38;5;132;01m}\u001b[39;00m\u001b[38;5;124m.\u001b[39m\u001b[38;5;130;01m\\n\u001b[39;00m\u001b[38;5;124m\"\u001b[39m\n\u001b[1;32m    568\u001b[0m     \u001b[38;5;124mf\u001b[39m\u001b[38;5;124m\"\u001b[39m\u001b[38;5;124mModel type should be one of \u001b[39m\u001b[38;5;132;01m{\u001b[39;00m\u001b[38;5;124m'\u001b[39m\u001b[38;5;124m, \u001b[39m\u001b[38;5;124m'\u001b[39m\u001b[38;5;241m.\u001b[39mjoin(c\u001b[38;5;241m.\u001b[39m\u001b[38;5;18m__name__\u001b[39m\u001b[38;5;250m \u001b[39m\u001b[38;5;28;01mfor\u001b[39;00m\u001b[38;5;250m \u001b[39mc\u001b[38;5;250m \u001b[39m\u001b[38;5;129;01min\u001b[39;00m\u001b[38;5;250m \u001b[39m\u001b[38;5;28mcls\u001b[39m\u001b[38;5;241m.\u001b[39m_model_mapping\u001b[38;5;241m.\u001b[39mkeys())\u001b[38;5;132;01m}\u001b[39;00m\u001b[38;5;124m.\u001b[39m\u001b[38;5;124m\"\u001b[39m\n\u001b[1;32m    569\u001b[0m )\n",
      "File \u001b[0;32m~/learning_projects/custom-chat-bot-using-LLM/chatbotenv/lib/python3.10/site-packages/transformers/modeling_utils.py:3290\u001b[0m, in \u001b[0;36mPreTrainedModel.from_pretrained\u001b[0;34m(cls, pretrained_model_name_or_path, config, cache_dir, ignore_mismatched_sizes, force_download, local_files_only, token, revision, use_safetensors, *model_args, **kwargs)\u001b[0m\n\u001b[1;32m   3287\u001b[0m \u001b[38;5;66;03m# We'll need to download and cache each checkpoint shard if the checkpoint is sharded.\u001b[39;00m\n\u001b[1;32m   3288\u001b[0m \u001b[38;5;28;01mif\u001b[39;00m is_sharded:\n\u001b[1;32m   3289\u001b[0m     \u001b[38;5;66;03m# rsolved_archive_file becomes a list of files that point to the different checkpoint shards in this case.\u001b[39;00m\n\u001b[0;32m-> 3290\u001b[0m     resolved_archive_file, sharded_metadata \u001b[38;5;241m=\u001b[39m \u001b[43mget_checkpoint_shard_files\u001b[49m\u001b[43m(\u001b[49m\n\u001b[1;32m   3291\u001b[0m \u001b[43m        \u001b[49m\u001b[43mpretrained_model_name_or_path\u001b[49m\u001b[43m,\u001b[49m\n\u001b[1;32m   3292\u001b[0m \u001b[43m        \u001b[49m\u001b[43mresolved_archive_file\u001b[49m\u001b[43m,\u001b[49m\n\u001b[1;32m   3293\u001b[0m \u001b[43m        \u001b[49m\u001b[43mcache_dir\u001b[49m\u001b[38;5;241;43m=\u001b[39;49m\u001b[43mcache_dir\u001b[49m\u001b[43m,\u001b[49m\n\u001b[1;32m   3294\u001b[0m \u001b[43m        \u001b[49m\u001b[43mforce_download\u001b[49m\u001b[38;5;241;43m=\u001b[39;49m\u001b[43mforce_download\u001b[49m\u001b[43m,\u001b[49m\n\u001b[1;32m   3295\u001b[0m \u001b[43m        \u001b[49m\u001b[43mproxies\u001b[49m\u001b[38;5;241;43m=\u001b[39;49m\u001b[43mproxies\u001b[49m\u001b[43m,\u001b[49m\n\u001b[1;32m   3296\u001b[0m \u001b[43m        \u001b[49m\u001b[43mresume_download\u001b[49m\u001b[38;5;241;43m=\u001b[39;49m\u001b[43mresume_download\u001b[49m\u001b[43m,\u001b[49m\n\u001b[1;32m   3297\u001b[0m \u001b[43m        \u001b[49m\u001b[43mlocal_files_only\u001b[49m\u001b[38;5;241;43m=\u001b[39;49m\u001b[43mlocal_files_only\u001b[49m\u001b[43m,\u001b[49m\n\u001b[1;32m   3298\u001b[0m \u001b[43m        \u001b[49m\u001b[43mtoken\u001b[49m\u001b[38;5;241;43m=\u001b[39;49m\u001b[43mtoken\u001b[49m\u001b[43m,\u001b[49m\n\u001b[1;32m   3299\u001b[0m \u001b[43m        \u001b[49m\u001b[43muser_agent\u001b[49m\u001b[38;5;241;43m=\u001b[39;49m\u001b[43muser_agent\u001b[49m\u001b[43m,\u001b[49m\n\u001b[1;32m   3300\u001b[0m \u001b[43m        \u001b[49m\u001b[43mrevision\u001b[49m\u001b[38;5;241;43m=\u001b[39;49m\u001b[43mrevision\u001b[49m\u001b[43m,\u001b[49m\n\u001b[1;32m   3301\u001b[0m \u001b[43m        \u001b[49m\u001b[43msubfolder\u001b[49m\u001b[38;5;241;43m=\u001b[39;49m\u001b[43msubfolder\u001b[49m\u001b[43m,\u001b[49m\n\u001b[1;32m   3302\u001b[0m \u001b[43m        \u001b[49m\u001b[43m_commit_hash\u001b[49m\u001b[38;5;241;43m=\u001b[39;49m\u001b[43mcommit_hash\u001b[49m\u001b[43m,\u001b[49m\n\u001b[1;32m   3303\u001b[0m \u001b[43m    \u001b[49m\u001b[43m)\u001b[49m\n\u001b[1;32m   3305\u001b[0m \u001b[38;5;28;01mif\u001b[39;00m (\n\u001b[1;32m   3306\u001b[0m     is_safetensors_available()\n\u001b[1;32m   3307\u001b[0m     \u001b[38;5;129;01mand\u001b[39;00m \u001b[38;5;28misinstance\u001b[39m(resolved_archive_file, \u001b[38;5;28mstr\u001b[39m)\n\u001b[1;32m   3308\u001b[0m     \u001b[38;5;129;01mand\u001b[39;00m resolved_archive_file\u001b[38;5;241m.\u001b[39mendswith(\u001b[38;5;124m\"\u001b[39m\u001b[38;5;124m.safetensors\u001b[39m\u001b[38;5;124m\"\u001b[39m)\n\u001b[1;32m   3309\u001b[0m ):\n\u001b[1;32m   3310\u001b[0m     \u001b[38;5;28;01mwith\u001b[39;00m safe_open(resolved_archive_file, framework\u001b[38;5;241m=\u001b[39m\u001b[38;5;124m\"\u001b[39m\u001b[38;5;124mpt\u001b[39m\u001b[38;5;124m\"\u001b[39m) \u001b[38;5;28;01mas\u001b[39;00m f:\n",
      "File \u001b[0;32m~/learning_projects/custom-chat-bot-using-LLM/chatbotenv/lib/python3.10/site-packages/transformers/utils/hub.py:1038\u001b[0m, in \u001b[0;36mget_checkpoint_shard_files\u001b[0;34m(pretrained_model_name_or_path, index_filename, cache_dir, force_download, proxies, resume_download, local_files_only, token, user_agent, revision, subfolder, _commit_hash, **deprecated_kwargs)\u001b[0m\n\u001b[1;32m   1035\u001b[0m \u001b[38;5;28;01mfor\u001b[39;00m shard_filename \u001b[38;5;129;01min\u001b[39;00m tqdm(shard_filenames, desc\u001b[38;5;241m=\u001b[39m\u001b[38;5;124m\"\u001b[39m\u001b[38;5;124mDownloading shards\u001b[39m\u001b[38;5;124m\"\u001b[39m, disable\u001b[38;5;241m=\u001b[39m\u001b[38;5;129;01mnot\u001b[39;00m show_progress_bar):\n\u001b[1;32m   1036\u001b[0m     \u001b[38;5;28;01mtry\u001b[39;00m:\n\u001b[1;32m   1037\u001b[0m         \u001b[38;5;66;03m# Load from URL\u001b[39;00m\n\u001b[0;32m-> 1038\u001b[0m         cached_filename \u001b[38;5;241m=\u001b[39m \u001b[43mcached_file\u001b[49m\u001b[43m(\u001b[49m\n\u001b[1;32m   1039\u001b[0m \u001b[43m            \u001b[49m\u001b[43mpretrained_model_name_or_path\u001b[49m\u001b[43m,\u001b[49m\n\u001b[1;32m   1040\u001b[0m \u001b[43m            \u001b[49m\u001b[43mshard_filename\u001b[49m\u001b[43m,\u001b[49m\n\u001b[1;32m   1041\u001b[0m \u001b[43m            \u001b[49m\u001b[43mcache_dir\u001b[49m\u001b[38;5;241;43m=\u001b[39;49m\u001b[43mcache_dir\u001b[49m\u001b[43m,\u001b[49m\n\u001b[1;32m   1042\u001b[0m \u001b[43m            \u001b[49m\u001b[43mforce_download\u001b[49m\u001b[38;5;241;43m=\u001b[39;49m\u001b[43mforce_download\u001b[49m\u001b[43m,\u001b[49m\n\u001b[1;32m   1043\u001b[0m \u001b[43m            \u001b[49m\u001b[43mproxies\u001b[49m\u001b[38;5;241;43m=\u001b[39;49m\u001b[43mproxies\u001b[49m\u001b[43m,\u001b[49m\n\u001b[1;32m   1044\u001b[0m \u001b[43m            \u001b[49m\u001b[43mresume_download\u001b[49m\u001b[38;5;241;43m=\u001b[39;49m\u001b[43mresume_download\u001b[49m\u001b[43m,\u001b[49m\n\u001b[1;32m   1045\u001b[0m \u001b[43m            \u001b[49m\u001b[43mlocal_files_only\u001b[49m\u001b[38;5;241;43m=\u001b[39;49m\u001b[43mlocal_files_only\u001b[49m\u001b[43m,\u001b[49m\n\u001b[1;32m   1046\u001b[0m \u001b[43m            \u001b[49m\u001b[43mtoken\u001b[49m\u001b[38;5;241;43m=\u001b[39;49m\u001b[43mtoken\u001b[49m\u001b[43m,\u001b[49m\n\u001b[1;32m   1047\u001b[0m \u001b[43m            \u001b[49m\u001b[43muser_agent\u001b[49m\u001b[38;5;241;43m=\u001b[39;49m\u001b[43muser_agent\u001b[49m\u001b[43m,\u001b[49m\n\u001b[1;32m   1048\u001b[0m \u001b[43m            \u001b[49m\u001b[43mrevision\u001b[49m\u001b[38;5;241;43m=\u001b[39;49m\u001b[43mrevision\u001b[49m\u001b[43m,\u001b[49m\n\u001b[1;32m   1049\u001b[0m \u001b[43m            \u001b[49m\u001b[43msubfolder\u001b[49m\u001b[38;5;241;43m=\u001b[39;49m\u001b[43msubfolder\u001b[49m\u001b[43m,\u001b[49m\n\u001b[1;32m   1050\u001b[0m \u001b[43m            \u001b[49m\u001b[43m_commit_hash\u001b[49m\u001b[38;5;241;43m=\u001b[39;49m\u001b[43m_commit_hash\u001b[49m\u001b[43m,\u001b[49m\n\u001b[1;32m   1051\u001b[0m \u001b[43m        \u001b[49m\u001b[43m)\u001b[49m\n\u001b[1;32m   1052\u001b[0m     \u001b[38;5;66;03m# We have already dealt with RepositoryNotFoundError and RevisionNotFoundError when getting the index, so\u001b[39;00m\n\u001b[1;32m   1053\u001b[0m     \u001b[38;5;66;03m# we don't have to catch them here.\u001b[39;00m\n\u001b[1;32m   1054\u001b[0m     \u001b[38;5;28;01mexcept\u001b[39;00m EntryNotFoundError:\n",
      "File \u001b[0;32m~/learning_projects/custom-chat-bot-using-LLM/chatbotenv/lib/python3.10/site-packages/transformers/utils/hub.py:398\u001b[0m, in \u001b[0;36mcached_file\u001b[0;34m(path_or_repo_id, filename, cache_dir, force_download, resume_download, proxies, token, revision, local_files_only, subfolder, repo_type, user_agent, _raise_exceptions_for_gated_repo, _raise_exceptions_for_missing_entries, _raise_exceptions_for_connection_errors, _commit_hash, **deprecated_kwargs)\u001b[0m\n\u001b[1;32m    395\u001b[0m user_agent \u001b[38;5;241m=\u001b[39m http_user_agent(user_agent)\n\u001b[1;32m    396\u001b[0m \u001b[38;5;28;01mtry\u001b[39;00m:\n\u001b[1;32m    397\u001b[0m     \u001b[38;5;66;03m# Load from URL or cache if already cached\u001b[39;00m\n\u001b[0;32m--> 398\u001b[0m     resolved_file \u001b[38;5;241m=\u001b[39m \u001b[43mhf_hub_download\u001b[49m\u001b[43m(\u001b[49m\n\u001b[1;32m    399\u001b[0m \u001b[43m        \u001b[49m\u001b[43mpath_or_repo_id\u001b[49m\u001b[43m,\u001b[49m\n\u001b[1;32m    400\u001b[0m \u001b[43m        \u001b[49m\u001b[43mfilename\u001b[49m\u001b[43m,\u001b[49m\n\u001b[1;32m    401\u001b[0m \u001b[43m        \u001b[49m\u001b[43msubfolder\u001b[49m\u001b[38;5;241;43m=\u001b[39;49m\u001b[38;5;28;43;01mNone\u001b[39;49;00m\u001b[43m \u001b[49m\u001b[38;5;28;43;01mif\u001b[39;49;00m\u001b[43m \u001b[49m\u001b[38;5;28;43mlen\u001b[39;49m\u001b[43m(\u001b[49m\u001b[43msubfolder\u001b[49m\u001b[43m)\u001b[49m\u001b[43m \u001b[49m\u001b[38;5;241;43m==\u001b[39;49m\u001b[43m \u001b[49m\u001b[38;5;241;43m0\u001b[39;49m\u001b[43m \u001b[49m\u001b[38;5;28;43;01melse\u001b[39;49;00m\u001b[43m \u001b[49m\u001b[43msubfolder\u001b[49m\u001b[43m,\u001b[49m\n\u001b[1;32m    402\u001b[0m \u001b[43m        \u001b[49m\u001b[43mrepo_type\u001b[49m\u001b[38;5;241;43m=\u001b[39;49m\u001b[43mrepo_type\u001b[49m\u001b[43m,\u001b[49m\n\u001b[1;32m    403\u001b[0m \u001b[43m        \u001b[49m\u001b[43mrevision\u001b[49m\u001b[38;5;241;43m=\u001b[39;49m\u001b[43mrevision\u001b[49m\u001b[43m,\u001b[49m\n\u001b[1;32m    404\u001b[0m \u001b[43m        \u001b[49m\u001b[43mcache_dir\u001b[49m\u001b[38;5;241;43m=\u001b[39;49m\u001b[43mcache_dir\u001b[49m\u001b[43m,\u001b[49m\n\u001b[1;32m    405\u001b[0m \u001b[43m        \u001b[49m\u001b[43muser_agent\u001b[49m\u001b[38;5;241;43m=\u001b[39;49m\u001b[43muser_agent\u001b[49m\u001b[43m,\u001b[49m\n\u001b[1;32m    406\u001b[0m \u001b[43m        \u001b[49m\u001b[43mforce_download\u001b[49m\u001b[38;5;241;43m=\u001b[39;49m\u001b[43mforce_download\u001b[49m\u001b[43m,\u001b[49m\n\u001b[1;32m    407\u001b[0m \u001b[43m        \u001b[49m\u001b[43mproxies\u001b[49m\u001b[38;5;241;43m=\u001b[39;49m\u001b[43mproxies\u001b[49m\u001b[43m,\u001b[49m\n\u001b[1;32m    408\u001b[0m \u001b[43m        \u001b[49m\u001b[43mresume_download\u001b[49m\u001b[38;5;241;43m=\u001b[39;49m\u001b[43mresume_download\u001b[49m\u001b[43m,\u001b[49m\n\u001b[1;32m    409\u001b[0m \u001b[43m        \u001b[49m\u001b[43mtoken\u001b[49m\u001b[38;5;241;43m=\u001b[39;49m\u001b[43mtoken\u001b[49m\u001b[43m,\u001b[49m\n\u001b[1;32m    410\u001b[0m \u001b[43m        \u001b[49m\u001b[43mlocal_files_only\u001b[49m\u001b[38;5;241;43m=\u001b[39;49m\u001b[43mlocal_files_only\u001b[49m\u001b[43m,\u001b[49m\n\u001b[1;32m    411\u001b[0m \u001b[43m    \u001b[49m\u001b[43m)\u001b[49m\n\u001b[1;32m    412\u001b[0m \u001b[38;5;28;01mexcept\u001b[39;00m GatedRepoError \u001b[38;5;28;01mas\u001b[39;00m e:\n\u001b[1;32m    413\u001b[0m     resolved_file \u001b[38;5;241m=\u001b[39m _get_cache_file_to_return(path_or_repo_id, full_filename, cache_dir, revision)\n",
      "File \u001b[0;32m~/learning_projects/custom-chat-bot-using-LLM/chatbotenv/lib/python3.10/site-packages/huggingface_hub/utils/_validators.py:119\u001b[0m, in \u001b[0;36mvalidate_hf_hub_args.<locals>._inner_fn\u001b[0;34m(*args, **kwargs)\u001b[0m\n\u001b[1;32m    116\u001b[0m \u001b[38;5;28;01mif\u001b[39;00m check_use_auth_token:\n\u001b[1;32m    117\u001b[0m     kwargs \u001b[38;5;241m=\u001b[39m smoothly_deprecate_use_auth_token(fn_name\u001b[38;5;241m=\u001b[39mfn\u001b[38;5;241m.\u001b[39m\u001b[38;5;18m__name__\u001b[39m, has_token\u001b[38;5;241m=\u001b[39mhas_token, kwargs\u001b[38;5;241m=\u001b[39mkwargs)\n\u001b[0;32m--> 119\u001b[0m \u001b[38;5;28;01mreturn\u001b[39;00m \u001b[43mfn\u001b[49m\u001b[43m(\u001b[49m\u001b[38;5;241;43m*\u001b[39;49m\u001b[43margs\u001b[49m\u001b[43m,\u001b[49m\u001b[43m \u001b[49m\u001b[38;5;241;43m*\u001b[39;49m\u001b[38;5;241;43m*\u001b[39;49m\u001b[43mkwargs\u001b[49m\u001b[43m)\u001b[49m\n",
      "File \u001b[0;32m~/learning_projects/custom-chat-bot-using-LLM/chatbotenv/lib/python3.10/site-packages/huggingface_hub/file_download.py:1492\u001b[0m, in \u001b[0;36mhf_hub_download\u001b[0;34m(repo_id, filename, subfolder, repo_type, revision, library_name, library_version, cache_dir, local_dir, local_dir_use_symlinks, user_agent, force_download, force_filename, proxies, etag_timeout, resume_download, token, local_files_only, headers, legacy_cache_layout, endpoint)\u001b[0m\n\u001b[1;32m   1489\u001b[0m         \u001b[38;5;28;01mif\u001b[39;00m local_dir \u001b[38;5;129;01mis\u001b[39;00m \u001b[38;5;129;01mnot\u001b[39;00m \u001b[38;5;28;01mNone\u001b[39;00m:\n\u001b[1;32m   1490\u001b[0m             _check_disk_space(expected_size, local_dir)\n\u001b[0;32m-> 1492\u001b[0m     \u001b[43mhttp_get\u001b[49m\u001b[43m(\u001b[49m\n\u001b[1;32m   1493\u001b[0m \u001b[43m        \u001b[49m\u001b[43murl_to_download\u001b[49m\u001b[43m,\u001b[49m\n\u001b[1;32m   1494\u001b[0m \u001b[43m        \u001b[49m\u001b[43mtemp_file\u001b[49m\u001b[43m,\u001b[49m\n\u001b[1;32m   1495\u001b[0m \u001b[43m        \u001b[49m\u001b[43mproxies\u001b[49m\u001b[38;5;241;43m=\u001b[39;49m\u001b[43mproxies\u001b[49m\u001b[43m,\u001b[49m\n\u001b[1;32m   1496\u001b[0m \u001b[43m        \u001b[49m\u001b[43mresume_size\u001b[49m\u001b[38;5;241;43m=\u001b[39;49m\u001b[43mresume_size\u001b[49m\u001b[43m,\u001b[49m\n\u001b[1;32m   1497\u001b[0m \u001b[43m        \u001b[49m\u001b[43mheaders\u001b[49m\u001b[38;5;241;43m=\u001b[39;49m\u001b[43mheaders\u001b[49m\u001b[43m,\u001b[49m\n\u001b[1;32m   1498\u001b[0m \u001b[43m        \u001b[49m\u001b[43mexpected_size\u001b[49m\u001b[38;5;241;43m=\u001b[39;49m\u001b[43mexpected_size\u001b[49m\u001b[43m,\u001b[49m\n\u001b[1;32m   1499\u001b[0m \u001b[43m        \u001b[49m\u001b[43mdisplayed_filename\u001b[49m\u001b[38;5;241;43m=\u001b[39;49m\u001b[43mfilename\u001b[49m\u001b[43m,\u001b[49m\n\u001b[1;32m   1500\u001b[0m \u001b[43m    \u001b[49m\u001b[43m)\u001b[49m\n\u001b[1;32m   1502\u001b[0m \u001b[38;5;28;01mif\u001b[39;00m local_dir \u001b[38;5;129;01mis\u001b[39;00m \u001b[38;5;28;01mNone\u001b[39;00m:\n\u001b[1;32m   1503\u001b[0m     logger\u001b[38;5;241m.\u001b[39mdebug(\u001b[38;5;124mf\u001b[39m\u001b[38;5;124m\"\u001b[39m\u001b[38;5;124mStoring \u001b[39m\u001b[38;5;132;01m{\u001b[39;00murl\u001b[38;5;132;01m}\u001b[39;00m\u001b[38;5;124m in cache at \u001b[39m\u001b[38;5;132;01m{\u001b[39;00mblob_path\u001b[38;5;132;01m}\u001b[39;00m\u001b[38;5;124m\"\u001b[39m)\n",
      "File \u001b[0;32m~/learning_projects/custom-chat-bot-using-LLM/chatbotenv/lib/python3.10/site-packages/huggingface_hub/file_download.py:535\u001b[0m, in \u001b[0;36mhttp_get\u001b[0;34m(url, temp_file, proxies, resume_size, headers, expected_size, displayed_filename, _nb_retries, _tqdm_bar)\u001b[0m\n\u001b[1;32m    533\u001b[0m new_resume_size \u001b[38;5;241m=\u001b[39m resume_size\n\u001b[1;32m    534\u001b[0m \u001b[38;5;28;01mtry\u001b[39;00m:\n\u001b[0;32m--> 535\u001b[0m     \u001b[38;5;28;01mfor\u001b[39;00m chunk \u001b[38;5;129;01min\u001b[39;00m r\u001b[38;5;241m.\u001b[39miter_content(chunk_size\u001b[38;5;241m=\u001b[39mDOWNLOAD_CHUNK_SIZE):\n\u001b[1;32m    536\u001b[0m         \u001b[38;5;28;01mif\u001b[39;00m chunk:  \u001b[38;5;66;03m# filter out keep-alive new chunks\u001b[39;00m\n\u001b[1;32m    537\u001b[0m             progress\u001b[38;5;241m.\u001b[39mupdate(\u001b[38;5;28mlen\u001b[39m(chunk))\n",
      "File \u001b[0;32m~/learning_projects/custom-chat-bot-using-LLM/chatbotenv/lib/python3.10/site-packages/requests/models.py:816\u001b[0m, in \u001b[0;36mResponse.iter_content.<locals>.generate\u001b[0;34m()\u001b[0m\n\u001b[1;32m    814\u001b[0m \u001b[38;5;28;01mif\u001b[39;00m \u001b[38;5;28mhasattr\u001b[39m(\u001b[38;5;28mself\u001b[39m\u001b[38;5;241m.\u001b[39mraw, \u001b[38;5;124m\"\u001b[39m\u001b[38;5;124mstream\u001b[39m\u001b[38;5;124m\"\u001b[39m):\n\u001b[1;32m    815\u001b[0m     \u001b[38;5;28;01mtry\u001b[39;00m:\n\u001b[0;32m--> 816\u001b[0m         \u001b[38;5;28;01myield from\u001b[39;00m \u001b[38;5;28mself\u001b[39m\u001b[38;5;241m.\u001b[39mraw\u001b[38;5;241m.\u001b[39mstream(chunk_size, decode_content\u001b[38;5;241m=\u001b[39m\u001b[38;5;28;01mTrue\u001b[39;00m)\n\u001b[1;32m    817\u001b[0m     \u001b[38;5;28;01mexcept\u001b[39;00m ProtocolError \u001b[38;5;28;01mas\u001b[39;00m e:\n\u001b[1;32m    818\u001b[0m         \u001b[38;5;28;01mraise\u001b[39;00m ChunkedEncodingError(e)\n",
      "File \u001b[0;32m~/learning_projects/custom-chat-bot-using-LLM/chatbotenv/lib/python3.10/site-packages/urllib3/response.py:628\u001b[0m, in \u001b[0;36mHTTPResponse.stream\u001b[0;34m(self, amt, decode_content)\u001b[0m\n\u001b[1;32m    626\u001b[0m \u001b[38;5;28;01melse\u001b[39;00m:\n\u001b[1;32m    627\u001b[0m     \u001b[38;5;28;01mwhile\u001b[39;00m \u001b[38;5;129;01mnot\u001b[39;00m is_fp_closed(\u001b[38;5;28mself\u001b[39m\u001b[38;5;241m.\u001b[39m_fp):\n\u001b[0;32m--> 628\u001b[0m         data \u001b[38;5;241m=\u001b[39m \u001b[38;5;28;43mself\u001b[39;49m\u001b[38;5;241;43m.\u001b[39;49m\u001b[43mread\u001b[49m\u001b[43m(\u001b[49m\u001b[43mamt\u001b[49m\u001b[38;5;241;43m=\u001b[39;49m\u001b[43mamt\u001b[49m\u001b[43m,\u001b[49m\u001b[43m \u001b[49m\u001b[43mdecode_content\u001b[49m\u001b[38;5;241;43m=\u001b[39;49m\u001b[43mdecode_content\u001b[49m\u001b[43m)\u001b[49m\n\u001b[1;32m    630\u001b[0m         \u001b[38;5;28;01mif\u001b[39;00m data:\n\u001b[1;32m    631\u001b[0m             \u001b[38;5;28;01myield\u001b[39;00m data\n",
      "File \u001b[0;32m~/learning_projects/custom-chat-bot-using-LLM/chatbotenv/lib/python3.10/site-packages/urllib3/response.py:567\u001b[0m, in \u001b[0;36mHTTPResponse.read\u001b[0;34m(self, amt, decode_content, cache_content)\u001b[0m\n\u001b[1;32m    564\u001b[0m fp_closed \u001b[38;5;241m=\u001b[39m \u001b[38;5;28mgetattr\u001b[39m(\u001b[38;5;28mself\u001b[39m\u001b[38;5;241m.\u001b[39m_fp, \u001b[38;5;124m\"\u001b[39m\u001b[38;5;124mclosed\u001b[39m\u001b[38;5;124m\"\u001b[39m, \u001b[38;5;28;01mFalse\u001b[39;00m)\n\u001b[1;32m    566\u001b[0m \u001b[38;5;28;01mwith\u001b[39;00m \u001b[38;5;28mself\u001b[39m\u001b[38;5;241m.\u001b[39m_error_catcher():\n\u001b[0;32m--> 567\u001b[0m     data \u001b[38;5;241m=\u001b[39m \u001b[38;5;28;43mself\u001b[39;49m\u001b[38;5;241;43m.\u001b[39;49m\u001b[43m_fp_read\u001b[49m\u001b[43m(\u001b[49m\u001b[43mamt\u001b[49m\u001b[43m)\u001b[49m \u001b[38;5;28;01mif\u001b[39;00m \u001b[38;5;129;01mnot\u001b[39;00m fp_closed \u001b[38;5;28;01melse\u001b[39;00m \u001b[38;5;124mb\u001b[39m\u001b[38;5;124m\"\u001b[39m\u001b[38;5;124m\"\u001b[39m\n\u001b[1;32m    568\u001b[0m     \u001b[38;5;28;01mif\u001b[39;00m amt \u001b[38;5;129;01mis\u001b[39;00m \u001b[38;5;28;01mNone\u001b[39;00m:\n\u001b[1;32m    569\u001b[0m         flush_decoder \u001b[38;5;241m=\u001b[39m \u001b[38;5;28;01mTrue\u001b[39;00m\n",
      "File \u001b[0;32m~/learning_projects/custom-chat-bot-using-LLM/chatbotenv/lib/python3.10/site-packages/urllib3/response.py:533\u001b[0m, in \u001b[0;36mHTTPResponse._fp_read\u001b[0;34m(self, amt)\u001b[0m\n\u001b[1;32m    530\u001b[0m     \u001b[38;5;28;01mreturn\u001b[39;00m buffer\u001b[38;5;241m.\u001b[39mgetvalue()\n\u001b[1;32m    531\u001b[0m \u001b[38;5;28;01melse\u001b[39;00m:\n\u001b[1;32m    532\u001b[0m     \u001b[38;5;66;03m# StringIO doesn't like amt=None\u001b[39;00m\n\u001b[0;32m--> 533\u001b[0m     \u001b[38;5;28;01mreturn\u001b[39;00m \u001b[38;5;28;43mself\u001b[39;49m\u001b[38;5;241;43m.\u001b[39;49m\u001b[43m_fp\u001b[49m\u001b[38;5;241;43m.\u001b[39;49m\u001b[43mread\u001b[49m\u001b[43m(\u001b[49m\u001b[43mamt\u001b[49m\u001b[43m)\u001b[49m \u001b[38;5;28;01mif\u001b[39;00m amt \u001b[38;5;129;01mis\u001b[39;00m \u001b[38;5;129;01mnot\u001b[39;00m \u001b[38;5;28;01mNone\u001b[39;00m \u001b[38;5;28;01melse\u001b[39;00m \u001b[38;5;28mself\u001b[39m\u001b[38;5;241m.\u001b[39m_fp\u001b[38;5;241m.\u001b[39mread()\n",
      "File \u001b[0;32m/usr/lib/python3.10/http/client.py:466\u001b[0m, in \u001b[0;36mHTTPResponse.read\u001b[0;34m(self, amt)\u001b[0m\n\u001b[1;32m    463\u001b[0m \u001b[38;5;28;01mif\u001b[39;00m \u001b[38;5;28mself\u001b[39m\u001b[38;5;241m.\u001b[39mlength \u001b[38;5;129;01mis\u001b[39;00m \u001b[38;5;129;01mnot\u001b[39;00m \u001b[38;5;28;01mNone\u001b[39;00m \u001b[38;5;129;01mand\u001b[39;00m amt \u001b[38;5;241m>\u001b[39m \u001b[38;5;28mself\u001b[39m\u001b[38;5;241m.\u001b[39mlength:\n\u001b[1;32m    464\u001b[0m     \u001b[38;5;66;03m# clip the read to the \"end of response\"\u001b[39;00m\n\u001b[1;32m    465\u001b[0m     amt \u001b[38;5;241m=\u001b[39m \u001b[38;5;28mself\u001b[39m\u001b[38;5;241m.\u001b[39mlength\n\u001b[0;32m--> 466\u001b[0m s \u001b[38;5;241m=\u001b[39m \u001b[38;5;28;43mself\u001b[39;49m\u001b[38;5;241;43m.\u001b[39;49m\u001b[43mfp\u001b[49m\u001b[38;5;241;43m.\u001b[39;49m\u001b[43mread\u001b[49m\u001b[43m(\u001b[49m\u001b[43mamt\u001b[49m\u001b[43m)\u001b[49m\n\u001b[1;32m    467\u001b[0m \u001b[38;5;28;01mif\u001b[39;00m \u001b[38;5;129;01mnot\u001b[39;00m s \u001b[38;5;129;01mand\u001b[39;00m amt:\n\u001b[1;32m    468\u001b[0m     \u001b[38;5;66;03m# Ideally, we would raise IncompleteRead if the content-length\u001b[39;00m\n\u001b[1;32m    469\u001b[0m     \u001b[38;5;66;03m# wasn't satisfied, but it might break compatibility.\u001b[39;00m\n\u001b[1;32m    470\u001b[0m     \u001b[38;5;28mself\u001b[39m\u001b[38;5;241m.\u001b[39m_close_conn()\n",
      "File \u001b[0;32m/usr/lib/python3.10/socket.py:705\u001b[0m, in \u001b[0;36mSocketIO.readinto\u001b[0;34m(self, b)\u001b[0m\n\u001b[1;32m    703\u001b[0m \u001b[38;5;28;01mwhile\u001b[39;00m \u001b[38;5;28;01mTrue\u001b[39;00m:\n\u001b[1;32m    704\u001b[0m     \u001b[38;5;28;01mtry\u001b[39;00m:\n\u001b[0;32m--> 705\u001b[0m         \u001b[38;5;28;01mreturn\u001b[39;00m \u001b[38;5;28;43mself\u001b[39;49m\u001b[38;5;241;43m.\u001b[39;49m\u001b[43m_sock\u001b[49m\u001b[38;5;241;43m.\u001b[39;49m\u001b[43mrecv_into\u001b[49m\u001b[43m(\u001b[49m\u001b[43mb\u001b[49m\u001b[43m)\u001b[49m\n\u001b[1;32m    706\u001b[0m     \u001b[38;5;28;01mexcept\u001b[39;00m timeout:\n\u001b[1;32m    707\u001b[0m         \u001b[38;5;28mself\u001b[39m\u001b[38;5;241m.\u001b[39m_timeout_occurred \u001b[38;5;241m=\u001b[39m \u001b[38;5;28;01mTrue\u001b[39;00m\n",
      "File \u001b[0;32m/usr/lib/python3.10/ssl.py:1303\u001b[0m, in \u001b[0;36mSSLSocket.recv_into\u001b[0;34m(self, buffer, nbytes, flags)\u001b[0m\n\u001b[1;32m   1299\u001b[0m     \u001b[38;5;28;01mif\u001b[39;00m flags \u001b[38;5;241m!=\u001b[39m \u001b[38;5;241m0\u001b[39m:\n\u001b[1;32m   1300\u001b[0m         \u001b[38;5;28;01mraise\u001b[39;00m \u001b[38;5;167;01mValueError\u001b[39;00m(\n\u001b[1;32m   1301\u001b[0m           \u001b[38;5;124m\"\u001b[39m\u001b[38;5;124mnon-zero flags not allowed in calls to recv_into() on \u001b[39m\u001b[38;5;132;01m%s\u001b[39;00m\u001b[38;5;124m\"\u001b[39m \u001b[38;5;241m%\u001b[39m\n\u001b[1;32m   1302\u001b[0m           \u001b[38;5;28mself\u001b[39m\u001b[38;5;241m.\u001b[39m\u001b[38;5;18m__class__\u001b[39m)\n\u001b[0;32m-> 1303\u001b[0m     \u001b[38;5;28;01mreturn\u001b[39;00m \u001b[38;5;28;43mself\u001b[39;49m\u001b[38;5;241;43m.\u001b[39;49m\u001b[43mread\u001b[49m\u001b[43m(\u001b[49m\u001b[43mnbytes\u001b[49m\u001b[43m,\u001b[49m\u001b[43m \u001b[49m\u001b[43mbuffer\u001b[49m\u001b[43m)\u001b[49m\n\u001b[1;32m   1304\u001b[0m \u001b[38;5;28;01melse\u001b[39;00m:\n\u001b[1;32m   1305\u001b[0m     \u001b[38;5;28;01mreturn\u001b[39;00m \u001b[38;5;28msuper\u001b[39m()\u001b[38;5;241m.\u001b[39mrecv_into(buffer, nbytes, flags)\n",
      "File \u001b[0;32m/usr/lib/python3.10/ssl.py:1159\u001b[0m, in \u001b[0;36mSSLSocket.read\u001b[0;34m(self, len, buffer)\u001b[0m\n\u001b[1;32m   1157\u001b[0m \u001b[38;5;28;01mtry\u001b[39;00m:\n\u001b[1;32m   1158\u001b[0m     \u001b[38;5;28;01mif\u001b[39;00m buffer \u001b[38;5;129;01mis\u001b[39;00m \u001b[38;5;129;01mnot\u001b[39;00m \u001b[38;5;28;01mNone\u001b[39;00m:\n\u001b[0;32m-> 1159\u001b[0m         \u001b[38;5;28;01mreturn\u001b[39;00m \u001b[38;5;28;43mself\u001b[39;49m\u001b[38;5;241;43m.\u001b[39;49m\u001b[43m_sslobj\u001b[49m\u001b[38;5;241;43m.\u001b[39;49m\u001b[43mread\u001b[49m\u001b[43m(\u001b[49m\u001b[38;5;28;43mlen\u001b[39;49m\u001b[43m,\u001b[49m\u001b[43m \u001b[49m\u001b[43mbuffer\u001b[49m\u001b[43m)\u001b[49m\n\u001b[1;32m   1160\u001b[0m     \u001b[38;5;28;01melse\u001b[39;00m:\n\u001b[1;32m   1161\u001b[0m         \u001b[38;5;28;01mreturn\u001b[39;00m \u001b[38;5;28mself\u001b[39m\u001b[38;5;241m.\u001b[39m_sslobj\u001b[38;5;241m.\u001b[39mread(\u001b[38;5;28mlen\u001b[39m)\n",
      "\u001b[0;31mKeyboardInterrupt\u001b[0m: "
     ]
    }
   ],
   "source": [
    "model = AutoModelForCausalLM.from_pretrained(\"meta-llama/Llama-2-7b-chat-hf\",use_auth_token=True,device_map='auto',torch_dtype=torch.float16)"
   ]
  },
  {
   "cell_type": "markdown",
   "metadata": {},
   "source": [
    "### Create HuggingFace Pipeline"
   ]
  },
  {
   "cell_type": "code",
   "execution_count": null,
   "metadata": {},
   "outputs": [],
   "source": [
    "pipe = transformers.pipeline('text-generation',model=model,tokenizer=tokenizer,torch_dtype=torch.bfloat16,device_map='auto',\n",
    "                             max_new_tokens=512,do_sample=True,top_k=30,num_return_sequences=1,eos_token_id=tokenizer.eos_token_id)"
   ]
  },
  {
   "cell_type": "markdown",
   "metadata": {},
   "source": [
    "### Initialize LLM"
   ]
  },
  {
   "cell_type": "markdown",
   "metadata": {},
   "source": [
    "llm = HuggingFacePipeline(pipeline=pipe,model_kwargs={'temperatur':0})"
   ]
  },
  {
   "cell_type": "markdown",
   "metadata": {},
   "source": [
    "# Test LLM\n",
    "llm.predict(\"Provide a summery of Spider-man movie\")"
   ]
  },
  {
   "cell_type": "markdown",
   "metadata": {},
   "source": [
    "### Initialize Retrieval QA"
   ]
  },
  {
   "cell_type": "markdown",
   "metadata": {},
   "source": [
    "from langchain.chains import RetrievalQA"
   ]
  },
  {
   "cell_type": "code",
   "execution_count": null,
   "metadata": {},
   "outputs": [],
   "source": [
    "qa = RetrievalQA.from_chain_type(llm=model,chain_type=\"stuff\", retriever=docesearch.as_retriever(),return_source_documents=True)"
   ]
  }
 ],
 "metadata": {
  "kernelspec": {
   "display_name": "chatbotenv",
   "language": "python",
   "name": "python3"
  },
  "language_info": {
   "codemirror_mode": {
    "name": "ipython",
    "version": 3
   },
   "file_extension": ".py",
   "mimetype": "text/x-python",
   "name": "python",
   "nbconvert_exporter": "python",
   "pygments_lexer": "ipython3",
   "version": "3.10.12"
  }
 },
 "nbformat": 4,
 "nbformat_minor": 2
}
